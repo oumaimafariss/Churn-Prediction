{
  "nbformat": 4,
  "nbformat_minor": 0,
  "metadata": {
    "colab": {
      "name": "Modélisation.ipynb",
      "provenance": [],
      "collapsed_sections": []
    },
    "kernelspec": {
      "name": "python3",
      "display_name": "Python 3"
    },
    "language_info": {
      "name": "python"
    }
  },
  "cells": [
    {
      "cell_type": "code",
      "execution_count": 43,
      "metadata": {
        "id": "zVW6EvIEBOla"
      },
      "outputs": [],
      "source": [
        "import pandas as pd\n",
        "import numpy as np\n",
        "import seaborn as sns\n",
        "import matplotlib.pyplot as plt\n",
        "plt.rcParams.update({'font.size': 13.4})\n",
        "from sklearn.model_selection import cross_val_score, KFold, StratifiedKFold, train_test_split\n",
        "from sklearn.linear_model import LogisticRegression\n",
        "from sklearn.preprocessing import StandardScaler\n",
        "from sklearn import model_selection\n",
        "from sklearn.linear_model import LogisticRegression, LogisticRegressionCV\n",
        "from sklearn.tree import DecisionTreeClassifier\n",
        "from sklearn.neighbors import KNeighborsClassifier\n",
        "from sklearn.discriminant_analysis import LinearDiscriminantAnalysis\n",
        "from sklearn.naive_bayes import GaussianNB\n",
        "from sklearn.ensemble import RandomForestClassifier, GradientBoostingClassifier\n",
        "from sklearn.svm import SVC\n",
        "from sklearn.metrics import roc_curve, classification_report, confusion_matrix\n",
        "from imblearn.over_sampling import RandomOverSampler, SMOTE\n"
      ]
    },
    {
      "cell_type": "code",
      "source": [
        "# prepare configuration for cross validation test harness\n",
        "seed = 7\n",
        "# prepare models\n",
        "models = []\n",
        "models.append(('LR', make_pipeline(SMOTE(sampling_strategy = \"minority\", random_state=42, k_neighbors=10),\n",
        "                              StandardScaler(),\n",
        "                              LogisticRegression())))\n",
        "\n",
        "\n",
        "models.append(('LDA', \n",
        "make_pipeline(SMOTE(sampling_strategy = \"minority\", random_state=42, k_neighbors=10),\n",
        "                              StandardScaler(),\n",
        "                              LinearDiscriminantAnalysis())))\n",
        "models.append(('KNN', make_pipeline(SMOTE(sampling_strategy = \"minority\", random_state=42, k_neighbors=10),\n",
        "                              StandardScaler(),\n",
        "                              KNeighborsClassifier())))\n",
        "models.append(('Decision Tree', \n",
        "make_pipeline(SMOTE(sampling_strategy = \"minority\", random_state=42, k_neighbors=10),\n",
        "                              StandardScaler(),\n",
        "                              DecisionTreeClassifier())))\n",
        "models.append(('NB', make_pipeline(SMOTE(sampling_strategy = \"minority\", random_state=42, k_neighbors=10),\n",
        "                              StandardScaler(),\n",
        "                              GaussianNB())))\n",
        "models.append(('SVM', make_pipeline(SMOTE(sampling_strategy = \"minority\", random_state=42, k_neighbors=10),\n",
        "                              StandardScaler(),\n",
        "                              SVC())))\n",
        "models.append(('Random\\n Forest', make_pipeline(SMOTE(sampling_strategy = \"minority\", random_state=42, k_neighbors=10),\n",
        "                              StandardScaler(),\n",
        "                              RandomForestClassifier())))\n",
        "models.append(('Gradient\\n Boosting', make_pipeline(SMOTE(sampling_strategy = \"minority\", random_state=42, k_neighbors=10),\n",
        "                              StandardScaler(),\n",
        "                              GradientBoostingClassifier())))\n",
        "\n",
        "# evaluate each model in turn\n",
        "results = []\n",
        "names = []\n",
        "scoring = 'roc_auc'\n",
        "for name, model in models:\n",
        "\tkfold = model_selection.StratifiedKFold(5)\n",
        "\tcv_results = model_selection.cross_val_score(model, X, y, cv=kfold, scoring=\"roc_auc\")\n",
        "\tresults.append(cv_results)\n",
        "\tnames.append(name)\n",
        "\tmsg = \"%s: %f (%f)\" % (name, cv_results.mean(), cv_results.std())\n",
        "\tprint(msg)\n",
        "# boxplot algorithm comparison\n",
        "fig = plt.figure()\n",
        "fig.suptitle('Algorithm Comparison')\n",
        "ax = fig.add_subplot(111)\n",
        "plt.boxplot(results)\n",
        "ax.set_xticklabels(names)\n",
        "plt.xticks(rotation=45)\n",
        "plt.xlabel(\"Models\")\n",
        "plt.ylabel(\"Mean AUC Score\")\n",
        "plt.show()"
      ],
      "metadata": {
        "colab": {
          "base_uri": "https://localhost:8080/",
          "height": 548
        },
        "id": "5LQdjd5TBpjm",
        "outputId": "7310f0ee-8ffa-4cad-fc22-df038160a6e7"
      },
      "execution_count": 8,
      "outputs": [
        {
          "output_type": "stream",
          "name": "stdout",
          "text": [
            "LR: 0.842254 (0.013017)\n",
            "LDA: 0.838111 (0.012397)\n",
            "KNN: 0.787613 (0.011353)\n",
            "Decision Tree: 0.662818 (0.016701)\n",
            "NB: 0.822341 (0.013618)\n",
            "SVM: 0.825572 (0.010731)\n",
            "Random\n",
            " Forest: 0.802156 (0.010220)\n",
            "Gradient\n",
            " Boosting: 0.840767 (0.014217)\n"
          ]
        },
        {
          "output_type": "display_data",
          "data": {
            "image/png": "[encoded data removed]",
            "text/plain": [
              "<Figure size 432x288 with 1 Axes>"
            ]
          },
          "metadata": {
            "needs_background": "light"
          }
        }
      ]
    },
    {
      "cell_type": "code",
      "source": [
        "clf =  make_pipeline(SMOTE(sampling_strategy = \"minority\", random_state=42, k_neighbors=10),\n",
        "                              StandardScaler(),\n",
        "                              LogisticRegression())\n",
        "\n",
        "X_train, X_test, y_train, y_test = train_test_split(X,y, stratify=y)\n",
        "\n",
        "clf.fit(X_train,y_train)\n",
        "\n",
        "y_pred_test = clf.predict(X_test)\n",
        "\n",
        "\n",
        "a =classification_report(y_test,y_pred_test)\n"
      ],
      "metadata": {
        "id": "0H1vyhpuDmFd"
      },
      "execution_count": 31,
      "outputs": []
    },
    {
      "cell_type": "code",
      "source": [
        "print(a)"
      ],
      "metadata": {
        "colab": {
          "base_uri": "https://localhost:8080/"
        },
        "id": "JSOOdczkH-JX",
        "outputId": "fde035ee-30eb-4aa9-b793-bd97e351fa46"
      },
      "execution_count": 37,
      "outputs": [
        {
          "output_type": "stream",
          "name": "stdout",
          "text": [
            "              precision    recall  f1-score   support\n",
            "\n",
            "           0       0.91      0.72      0.80      1291\n",
            "           1       0.51      0.81      0.62       467\n",
            "\n",
            "    accuracy                           0.74      1758\n",
            "   macro avg       0.71      0.76      0.71      1758\n",
            "weighted avg       0.80      0.74      0.76      1758\n",
            "\n"
          ]
        }
      ]
    },
    {
      "cell_type": "markdown",
      "source": [
        ""
      ],
      "metadata": {
        "id": "xl3CsnMISFkp"
      }
    },
    {
      "cell_type": "code",
      "source": [
        "print(pd.DataFrame(confusion_matrix(y_test, y_pred_test)).to_latex())"
      ],
      "metadata": {
        "colab": {
          "base_uri": "https://localhost:8080/"
        },
        "id": "vaDpiYj0SFvD",
        "outputId": "9f85569a-438b-4452-9452-40c02cf175a3"
      },
      "execution_count": 46,
      "outputs": [
        {
          "output_type": "stream",
          "name": "stdout",
          "text": [
            "\\begin{tabular}{lrr}\n",
            "\\toprule\n",
            "{} &    0 &    1 \\\\\n",
            "\\midrule\n",
            "0 &  929 &  362 \\\\\n",
            "1 &   91 &  376 \\\\\n",
            "\\bottomrule\n",
            "\\end{tabular}\n",
            "\n"
          ]
        }
      ]
    }
  ]
}